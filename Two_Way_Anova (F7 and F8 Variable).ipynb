{
  "nbformat": 4,
  "nbformat_minor": 0,
  "metadata": {
    "colab": {
      "name": "Two Way Anova",
      "provenance": []
    },
    "kernelspec": {
      "name": "python3",
      "display_name": "Python 3"
    },
    "language_info": {
      "name": "python"
    }
  },
  "cells": [
    {
      "cell_type": "markdown",
      "metadata": {
        "id": "kkBkfvsJ9zGi"
      },
      "source": [
        "#Masukkan Data"
      ]
    },
    {
      "cell_type": "code",
      "metadata": {
        "colab": {
          "base_uri": "https://localhost:8080/",
          "height": 204
        },
        "id": "s78kV4l60PHE",
        "outputId": "91531e85-746d-4451-d9da-1c983901b2e2"
      },
      "source": [
        "import pandas as pd\n",
        "#Melakukan Load Data\n",
        "d = pd.read_excel(\"Dataset_lama.xlsx\")\n",
        "d.head()"
      ],
      "execution_count": null,
      "outputs": [
        {
          "output_type": "execute_result",
          "data": {
            "text/html": [
              "<div>\n",
              "<style scoped>\n",
              "    .dataframe tbody tr th:only-of-type {\n",
              "        vertical-align: middle;\n",
              "    }\n",
              "\n",
              "    .dataframe tbody tr th {\n",
              "        vertical-align: top;\n",
              "    }\n",
              "\n",
              "    .dataframe thead th {\n",
              "        text-align: right;\n",
              "    }\n",
              "</style>\n",
              "<table border=\"1\" class=\"dataframe\">\n",
              "  <thead>\n",
              "    <tr style=\"text-align: right;\">\n",
              "      <th></th>\n",
              "      <th>Index</th>\n",
              "      <th>F1</th>\n",
              "      <th>F2</th>\n",
              "      <th>F3</th>\n",
              "      <th>F4</th>\n",
              "      <th>F5</th>\n",
              "      <th>F6</th>\n",
              "      <th>F7</th>\n",
              "      <th>F8</th>\n",
              "      <th>F9</th>\n",
              "      <th>F10</th>\n",
              "      <th>F11</th>\n",
              "      <th>F12</th>\n",
              "      <th>F13</th>\n",
              "      <th>F14</th>\n",
              "      <th>Label</th>\n",
              "    </tr>\n",
              "  </thead>\n",
              "  <tbody>\n",
              "    <tr>\n",
              "      <th>0</th>\n",
              "      <td>0</td>\n",
              "      <td>0.736626</td>\n",
              "      <td>0.597937</td>\n",
              "      <td>1.535647</td>\n",
              "      <td>0.781507</td>\n",
              "      <td>4.062768</td>\n",
              "      <td>1.828305</td>\n",
              "      <td>0.913014</td>\n",
              "      <td>0.842583</td>\n",
              "      <td>2.0085</td>\n",
              "      <td>4.7122</td>\n",
              "      <td>6.6631</td>\n",
              "      <td>12.4585</td>\n",
              "      <td>20.4063</td>\n",
              "      <td>30.8238</td>\n",
              "      <td>1</td>\n",
              "    </tr>\n",
              "    <tr>\n",
              "      <th>1</th>\n",
              "      <td>1</td>\n",
              "      <td>0.694672</td>\n",
              "      <td>0.516291</td>\n",
              "      <td>1.806776</td>\n",
              "      <td>0.699669</td>\n",
              "      <td>4.372226</td>\n",
              "      <td>1.805135</td>\n",
              "      <td>0.860493</td>\n",
              "      <td>0.823922</td>\n",
              "      <td>2.0945</td>\n",
              "      <td>5.0521</td>\n",
              "      <td>6.7158</td>\n",
              "      <td>14.1530</td>\n",
              "      <td>25.4531</td>\n",
              "      <td>41.2382</td>\n",
              "      <td>1</td>\n",
              "    </tr>\n",
              "    <tr>\n",
              "      <th>2</th>\n",
              "      <td>2</td>\n",
              "      <td>0.716667</td>\n",
              "      <td>0.547966</td>\n",
              "      <td>1.690245</td>\n",
              "      <td>0.734749</td>\n",
              "      <td>4.243978</td>\n",
              "      <td>1.816461</td>\n",
              "      <td>0.892896</td>\n",
              "      <td>0.826502</td>\n",
              "      <td>2.1296</td>\n",
              "      <td>5.0518</td>\n",
              "      <td>6.8320</td>\n",
              "      <td>13.4940</td>\n",
              "      <td>24.6055</td>\n",
              "      <td>40.1646</td>\n",
              "      <td>1</td>\n",
              "    </tr>\n",
              "    <tr>\n",
              "      <th>3</th>\n",
              "      <td>3</td>\n",
              "      <td>0.673077</td>\n",
              "      <td>0.548412</td>\n",
              "      <td>1.763861</td>\n",
              "      <td>0.697036</td>\n",
              "      <td>4.242250</td>\n",
              "      <td>1.767403</td>\n",
              "      <td>0.875309</td>\n",
              "      <td>0.847430</td>\n",
              "      <td>1.9192</td>\n",
              "      <td>4.7676</td>\n",
              "      <td>7.2061</td>\n",
              "      <td>15.1770</td>\n",
              "      <td>24.5586</td>\n",
              "      <td>39.6899</td>\n",
              "      <td>1</td>\n",
              "    </tr>\n",
              "    <tr>\n",
              "      <th>4</th>\n",
              "      <td>4</td>\n",
              "      <td>0.728216</td>\n",
              "      <td>0.548810</td>\n",
              "      <td>1.674075</td>\n",
              "      <td>0.744214</td>\n",
              "      <td>4.240712</td>\n",
              "      <td>1.826158</td>\n",
              "      <td>0.894028</td>\n",
              "      <td>0.822953</td>\n",
              "      <td>2.2200</td>\n",
              "      <td>5.1391</td>\n",
              "      <td>7.2910</td>\n",
              "      <td>14.2070</td>\n",
              "      <td>25.6758</td>\n",
              "      <td>44.7681</td>\n",
              "      <td>1</td>\n",
              "    </tr>\n",
              "  </tbody>\n",
              "</table>\n",
              "</div>"
            ],
            "text/plain": [
              "   Index        F1        F2        F3  ...      F12      F13      F14  Label\n",
              "0      0  0.736626  0.597937  1.535647  ...  12.4585  20.4063  30.8238      1\n",
              "1      1  0.694672  0.516291  1.806776  ...  14.1530  25.4531  41.2382      1\n",
              "2      2  0.716667  0.547966  1.690245  ...  13.4940  24.6055  40.1646      1\n",
              "3      3  0.673077  0.548412  1.763861  ...  15.1770  24.5586  39.6899      1\n",
              "4      4  0.728216  0.548810  1.674075  ...  14.2070  25.6758  44.7681      1\n",
              "\n",
              "[5 rows x 16 columns]"
            ]
          },
          "metadata": {
            "tags": []
          },
          "execution_count": 1
        }
      ]
    },
    {
      "cell_type": "code",
      "metadata": {
        "id": "Gi5bvcjozbzj"
      },
      "source": [
        "d.dropna(inplace=True)"
      ],
      "execution_count": null,
      "outputs": []
    },
    {
      "cell_type": "markdown",
      "metadata": {
        "id": "NOGklxm291w8"
      },
      "source": [
        "#Reshape Data Frame"
      ]
    },
    {
      "cell_type": "code",
      "metadata": {
        "id": "nbdWRVoe8QjO"
      },
      "source": [
        "#Reshape Dataframe\n",
        "# d_melt = pd.melt(d, id_vars=['Genotype'], value_vars=['1_year', '2_year', '3_year'])\n",
        "# d_melt.columns = ['Genotype', 'years', 'value']\n",
        "# d_melt.head()"
      ],
      "execution_count": null,
      "outputs": []
    },
    {
      "cell_type": "markdown",
      "metadata": {
        "id": "gd6PqqFV93V2"
      },
      "source": [
        "#Model Two-Way ANOVA"
      ]
    },
    {
      "cell_type": "code",
      "metadata": {
        "id": "iIjA_AOzxSik"
      },
      "source": [
        "from sklearn.preprocessing import StandardScaler\n",
        "scaler = StandardScaler()\n",
        "rescaledX = scaler.fit_transform(d.values)\n",
        "scaled = pd.DataFrame(rescaledX, index=d.index, columns=d.columns)"
      ],
      "execution_count": null,
      "outputs": []
    },
    {
      "cell_type": "code",
      "metadata": {
        "colab": {
          "base_uri": "https://localhost:8080/",
          "height": 227
        },
        "id": "UjbnSXJY0c-r",
        "outputId": "541c9675-4386-455d-fce6-e17274358f0c"
      },
      "source": [
        "import statsmodels.api as sm\n",
        "from statsmodels.formula.api import ols\n",
        "#Membuat model Two-way ANOVA\n",
        "model = ols('Label ~ F7*F8', data=scaled).fit()\n",
        "anova_table = sm.stats.anova_lm(model, typ=2)\n",
        "#Menampilkan Tavel ANOVA\n",
        "anova_table"
      ],
      "execution_count": null,
      "outputs": [
        {
          "output_type": "stream",
          "text": [
            "/usr/local/lib/python3.7/dist-packages/statsmodels/tools/_testing.py:19: FutureWarning: pandas.util.testing is deprecated. Use the functions in the public API at pandas.testing instead.\n",
            "  import pandas.util.testing as tm\n"
          ],
          "name": "stderr"
        },
        {
          "output_type": "execute_result",
          "data": {
            "text/html": [
              "<div>\n",
              "<style scoped>\n",
              "    .dataframe tbody tr th:only-of-type {\n",
              "        vertical-align: middle;\n",
              "    }\n",
              "\n",
              "    .dataframe tbody tr th {\n",
              "        vertical-align: top;\n",
              "    }\n",
              "\n",
              "    .dataframe thead th {\n",
              "        text-align: right;\n",
              "    }\n",
              "</style>\n",
              "<table border=\"1\" class=\"dataframe\">\n",
              "  <thead>\n",
              "    <tr style=\"text-align: right;\">\n",
              "      <th></th>\n",
              "      <th>sum_sq</th>\n",
              "      <th>df</th>\n",
              "      <th>F</th>\n",
              "      <th>PR(&gt;F)</th>\n",
              "    </tr>\n",
              "  </thead>\n",
              "  <tbody>\n",
              "    <tr>\n",
              "      <th>F7</th>\n",
              "      <td>11.792718</td>\n",
              "      <td>1.0</td>\n",
              "      <td>13.485099</td>\n",
              "      <td>0.000414</td>\n",
              "    </tr>\n",
              "    <tr>\n",
              "      <th>F8</th>\n",
              "      <td>0.434141</td>\n",
              "      <td>1.0</td>\n",
              "      <td>0.496445</td>\n",
              "      <td>0.482948</td>\n",
              "    </tr>\n",
              "    <tr>\n",
              "      <th>F7:F8</th>\n",
              "      <td>0.043971</td>\n",
              "      <td>1.0</td>\n",
              "      <td>0.050281</td>\n",
              "      <td>0.823100</td>\n",
              "    </tr>\n",
              "    <tr>\n",
              "      <th>Residual</th>\n",
              "      <td>76.081494</td>\n",
              "      <td>87.0</td>\n",
              "      <td>NaN</td>\n",
              "      <td>NaN</td>\n",
              "    </tr>\n",
              "  </tbody>\n",
              "</table>\n",
              "</div>"
            ],
            "text/plain": [
              "             sum_sq    df          F    PR(>F)\n",
              "F7        11.792718   1.0  13.485099  0.000414\n",
              "F8         0.434141   1.0   0.496445  0.482948\n",
              "F7:F8      0.043971   1.0   0.050281  0.823100\n",
              "Residual  76.081494  87.0        NaN       NaN"
            ]
          },
          "metadata": {
            "tags": []
          },
          "execution_count": 7
        }
      ]
    },
    {
      "cell_type": "markdown",
      "metadata": {
        "id": "cbrC5d-796q5"
      },
      "source": [
        "#Post-hoc Test"
      ]
    },
    {
      "cell_type": "code",
      "metadata": {
        "colab": {
          "base_uri": "https://localhost:8080/"
        },
        "id": "ugdQAt6T7q_n",
        "outputId": "451ef5fb-2029-431f-aac2-eeaa696a84a5"
      },
      "source": [
        "pip install bioinfokit"
      ],
      "execution_count": null,
      "outputs": [
        {
          "output_type": "stream",
          "text": [
            "Requirement already satisfied: bioinfokit in /usr/local/lib/python3.7/dist-packages (2.0.4)\n",
            "Requirement already satisfied: tabulate in /usr/local/lib/python3.7/dist-packages (from bioinfokit) (0.8.9)\n",
            "Requirement already satisfied: pandas in /usr/local/lib/python3.7/dist-packages (from bioinfokit) (1.1.5)\n",
            "Requirement already satisfied: seaborn in /usr/local/lib/python3.7/dist-packages (from bioinfokit) (0.11.1)\n",
            "Requirement already satisfied: scipy in /usr/local/lib/python3.7/dist-packages (from bioinfokit) (1.4.1)\n",
            "Requirement already satisfied: statsmodels in /usr/local/lib/python3.7/dist-packages (from bioinfokit) (0.10.2)\n",
            "Requirement already satisfied: textwrap3 in /usr/local/lib/python3.7/dist-packages (from bioinfokit) (0.9.2)\n",
            "Requirement already satisfied: scikit-learn in /usr/local/lib/python3.7/dist-packages (from bioinfokit) (0.22.2.post1)\n",
            "Requirement already satisfied: matplotlib in /usr/local/lib/python3.7/dist-packages (from bioinfokit) (3.2.2)\n",
            "Requirement already satisfied: matplotlib-venn in /usr/local/lib/python3.7/dist-packages (from bioinfokit) (0.11.6)\n",
            "Requirement already satisfied: adjustText in /usr/local/lib/python3.7/dist-packages (from bioinfokit) (0.7.3)\n",
            "Requirement already satisfied: numpy in /usr/local/lib/python3.7/dist-packages (from bioinfokit) (1.19.5)\n",
            "Requirement already satisfied: pytz>=2017.2 in /usr/local/lib/python3.7/dist-packages (from pandas->bioinfokit) (2018.9)\n",
            "Requirement already satisfied: python-dateutil>=2.7.3 in /usr/local/lib/python3.7/dist-packages (from pandas->bioinfokit) (2.8.1)\n",
            "Requirement already satisfied: patsy>=0.4.0 in /usr/local/lib/python3.7/dist-packages (from statsmodels->bioinfokit) (0.5.1)\n",
            "Requirement already satisfied: joblib>=0.11 in /usr/local/lib/python3.7/dist-packages (from scikit-learn->bioinfokit) (1.0.1)\n",
            "Requirement already satisfied: kiwisolver>=1.0.1 in /usr/local/lib/python3.7/dist-packages (from matplotlib->bioinfokit) (1.3.1)\n",
            "Requirement already satisfied: pyparsing!=2.0.4,!=2.1.2,!=2.1.6,>=2.0.1 in /usr/local/lib/python3.7/dist-packages (from matplotlib->bioinfokit) (2.4.7)\n",
            "Requirement already satisfied: cycler>=0.10 in /usr/local/lib/python3.7/dist-packages (from matplotlib->bioinfokit) (0.10.0)\n",
            "Requirement already satisfied: six>=1.5 in /usr/local/lib/python3.7/dist-packages (from python-dateutil>=2.7.3->pandas->bioinfokit) (1.15.0)\n"
          ],
          "name": "stdout"
        }
      ]
    },
    {
      "cell_type": "code",
      "metadata": {
        "colab": {
          "base_uri": "https://localhost:8080/",
          "height": 419
        },
        "id": "kqfinzkd7bx_",
        "outputId": "ddf8deb8-85dd-4b31-853a-0088a33b5892"
      },
      "source": [
        "from bioinfokit.analys import stat\n",
        "#Post-hoc Test\n",
        "res = stat()\n",
        "\n",
        "#F7\n",
        "res.tukey_hsd(df=scaled, res_var='Label', xfac_var='F7', anova_model='Label ~ F7*F8')\n",
        "res.tukey_summary"
      ],
      "execution_count": null,
      "outputs": [
        {
          "output_type": "execute_result",
          "data": {
            "text/html": [
              "<div>\n",
              "<style scoped>\n",
              "    .dataframe tbody tr th:only-of-type {\n",
              "        vertical-align: middle;\n",
              "    }\n",
              "\n",
              "    .dataframe tbody tr th {\n",
              "        vertical-align: top;\n",
              "    }\n",
              "\n",
              "    .dataframe thead th {\n",
              "        text-align: right;\n",
              "    }\n",
              "</style>\n",
              "<table border=\"1\" class=\"dataframe\">\n",
              "  <thead>\n",
              "    <tr style=\"text-align: right;\">\n",
              "      <th></th>\n",
              "      <th>group1</th>\n",
              "      <th>group2</th>\n",
              "      <th>Diff</th>\n",
              "      <th>Lower</th>\n",
              "      <th>Upper</th>\n",
              "      <th>q-value</th>\n",
              "      <th>p-value</th>\n",
              "    </tr>\n",
              "  </thead>\n",
              "  <tbody>\n",
              "    <tr>\n",
              "      <th>0</th>\n",
              "      <td>0.743389</td>\n",
              "      <td>-1.276280</td>\n",
              "      <td>0.0</td>\n",
              "      <td>-5.874459</td>\n",
              "      <td>5.874459</td>\n",
              "      <td>0.0</td>\n",
              "      <td>0.9</td>\n",
              "    </tr>\n",
              "    <tr>\n",
              "      <th>1</th>\n",
              "      <td>0.743389</td>\n",
              "      <td>-0.030209</td>\n",
              "      <td>0.0</td>\n",
              "      <td>-5.874459</td>\n",
              "      <td>5.874459</td>\n",
              "      <td>0.0</td>\n",
              "      <td>0.9</td>\n",
              "    </tr>\n",
              "    <tr>\n",
              "      <th>2</th>\n",
              "      <td>0.743389</td>\n",
              "      <td>-0.706522</td>\n",
              "      <td>0.0</td>\n",
              "      <td>-5.874459</td>\n",
              "      <td>5.874459</td>\n",
              "      <td>0.0</td>\n",
              "      <td>0.9</td>\n",
              "    </tr>\n",
              "    <tr>\n",
              "      <th>3</th>\n",
              "      <td>0.743389</td>\n",
              "      <td>0.013299</td>\n",
              "      <td>0.0</td>\n",
              "      <td>-5.874459</td>\n",
              "      <td>5.874459</td>\n",
              "      <td>0.0</td>\n",
              "      <td>0.9</td>\n",
              "    </tr>\n",
              "    <tr>\n",
              "      <th>4</th>\n",
              "      <td>0.743389</td>\n",
              "      <td>0.612453</td>\n",
              "      <td>0.0</td>\n",
              "      <td>-5.874459</td>\n",
              "      <td>5.874459</td>\n",
              "      <td>0.0</td>\n",
              "      <td>0.9</td>\n",
              "    </tr>\n",
              "    <tr>\n",
              "      <th>...</th>\n",
              "      <td>...</td>\n",
              "      <td>...</td>\n",
              "      <td>...</td>\n",
              "      <td>...</td>\n",
              "      <td>...</td>\n",
              "      <td>...</td>\n",
              "      <td>...</td>\n",
              "    </tr>\n",
              "    <tr>\n",
              "      <th>4090</th>\n",
              "      <td>-0.553804</td>\n",
              "      <td>0.362523</td>\n",
              "      <td>0.0</td>\n",
              "      <td>-5.874459</td>\n",
              "      <td>5.874459</td>\n",
              "      <td>0.0</td>\n",
              "      <td>0.9</td>\n",
              "    </tr>\n",
              "    <tr>\n",
              "      <th>4091</th>\n",
              "      <td>-0.553804</td>\n",
              "      <td>-0.538916</td>\n",
              "      <td>0.0</td>\n",
              "      <td>-5.874459</td>\n",
              "      <td>5.874459</td>\n",
              "      <td>0.0</td>\n",
              "      <td>0.9</td>\n",
              "    </tr>\n",
              "    <tr>\n",
              "      <th>4092</th>\n",
              "      <td>-0.667470</td>\n",
              "      <td>0.362523</td>\n",
              "      <td>0.0</td>\n",
              "      <td>-5.874459</td>\n",
              "      <td>5.874459</td>\n",
              "      <td>0.0</td>\n",
              "      <td>0.9</td>\n",
              "    </tr>\n",
              "    <tr>\n",
              "      <th>4093</th>\n",
              "      <td>-0.667470</td>\n",
              "      <td>-0.538916</td>\n",
              "      <td>0.0</td>\n",
              "      <td>-5.874459</td>\n",
              "      <td>5.874459</td>\n",
              "      <td>0.0</td>\n",
              "      <td>0.9</td>\n",
              "    </tr>\n",
              "    <tr>\n",
              "      <th>4094</th>\n",
              "      <td>0.362523</td>\n",
              "      <td>-0.538916</td>\n",
              "      <td>0.0</td>\n",
              "      <td>-5.874459</td>\n",
              "      <td>5.874459</td>\n",
              "      <td>0.0</td>\n",
              "      <td>0.9</td>\n",
              "    </tr>\n",
              "  </tbody>\n",
              "</table>\n",
              "<p>4095 rows × 7 columns</p>\n",
              "</div>"
            ],
            "text/plain": [
              "        group1    group2  Diff     Lower     Upper  q-value  p-value\n",
              "0     0.743389 -1.276280   0.0 -5.874459  5.874459      0.0      0.9\n",
              "1     0.743389 -0.030209   0.0 -5.874459  5.874459      0.0      0.9\n",
              "2     0.743389 -0.706522   0.0 -5.874459  5.874459      0.0      0.9\n",
              "3     0.743389  0.013299   0.0 -5.874459  5.874459      0.0      0.9\n",
              "4     0.743389  0.612453   0.0 -5.874459  5.874459      0.0      0.9\n",
              "...        ...       ...   ...       ...       ...      ...      ...\n",
              "4090 -0.553804  0.362523   0.0 -5.874459  5.874459      0.0      0.9\n",
              "4091 -0.553804 -0.538916   0.0 -5.874459  5.874459      0.0      0.9\n",
              "4092 -0.667470  0.362523   0.0 -5.874459  5.874459      0.0      0.9\n",
              "4093 -0.667470 -0.538916   0.0 -5.874459  5.874459      0.0      0.9\n",
              "4094  0.362523 -0.538916   0.0 -5.874459  5.874459      0.0      0.9\n",
              "\n",
              "[4095 rows x 7 columns]"
            ]
          },
          "metadata": {
            "tags": []
          },
          "execution_count": 33
        }
      ]
    }
  ]
}
