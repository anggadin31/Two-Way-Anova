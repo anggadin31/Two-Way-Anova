{
  "nbformat": 4,
  "nbformat_minor": 0,
  "metadata": {
    "colab": {
      "name": "Two Way Anova",
      "provenance": []
    },
    "kernelspec": {
      "name": "python3",
      "display_name": "Python 3"
    },
    "language_info": {
      "name": "python"
    }
  },
  "cells": [
    {
      "cell_type": "markdown",
      "metadata": {
        "id": "kkBkfvsJ9zGi"
      },
      "source": [
        "#Masukkan Data"
      ]
    },
    {
      "cell_type": "code",
      "metadata": {
        "colab": {
          "base_uri": "https://localhost:8080/",
          "height": 204
        },
        "id": "s78kV4l60PHE",
        "outputId": "dcabe29f-1f62-4fc5-b3bf-d63b5c544804"
      },
      "source": [
        "import pandas as pd\n",
        "#Melakukan Load Data\n",
        "d = pd.read_csv(\"https://reneshbedre.github.io/assets/posts/anova/twowayanova.txt\", sep=\"\\t\")\n",
        "d.head()"
      ],
      "execution_count": 8,
      "outputs": [
        {
          "output_type": "execute_result",
          "data": {
            "text/html": [
              "<div>\n",
              "<style scoped>\n",
              "    .dataframe tbody tr th:only-of-type {\n",
              "        vertical-align: middle;\n",
              "    }\n",
              "\n",
              "    .dataframe tbody tr th {\n",
              "        vertical-align: top;\n",
              "    }\n",
              "\n",
              "    .dataframe thead th {\n",
              "        text-align: right;\n",
              "    }\n",
              "</style>\n",
              "<table border=\"1\" class=\"dataframe\">\n",
              "  <thead>\n",
              "    <tr style=\"text-align: right;\">\n",
              "      <th></th>\n",
              "      <th>Genotype</th>\n",
              "      <th>1_year</th>\n",
              "      <th>2_year</th>\n",
              "      <th>3_year</th>\n",
              "    </tr>\n",
              "  </thead>\n",
              "  <tbody>\n",
              "    <tr>\n",
              "      <th>0</th>\n",
              "      <td>A</td>\n",
              "      <td>1.53</td>\n",
              "      <td>4.08</td>\n",
              "      <td>6.69</td>\n",
              "    </tr>\n",
              "    <tr>\n",
              "      <th>1</th>\n",
              "      <td>A</td>\n",
              "      <td>1.83</td>\n",
              "      <td>3.84</td>\n",
              "      <td>5.97</td>\n",
              "    </tr>\n",
              "    <tr>\n",
              "      <th>2</th>\n",
              "      <td>A</td>\n",
              "      <td>1.38</td>\n",
              "      <td>3.96</td>\n",
              "      <td>6.33</td>\n",
              "    </tr>\n",
              "    <tr>\n",
              "      <th>3</th>\n",
              "      <td>B</td>\n",
              "      <td>3.60</td>\n",
              "      <td>5.70</td>\n",
              "      <td>8.55</td>\n",
              "    </tr>\n",
              "    <tr>\n",
              "      <th>4</th>\n",
              "      <td>B</td>\n",
              "      <td>2.94</td>\n",
              "      <td>5.07</td>\n",
              "      <td>7.95</td>\n",
              "    </tr>\n",
              "  </tbody>\n",
              "</table>\n",
              "</div>"
            ],
            "text/plain": [
              "  Genotype  1_year  2_year  3_year\n",
              "0        A    1.53    4.08    6.69\n",
              "1        A    1.83    3.84    5.97\n",
              "2        A    1.38    3.96    6.33\n",
              "3        B    3.60    5.70    8.55\n",
              "4        B    2.94    5.07    7.95"
            ]
          },
          "metadata": {
            "tags": []
          },
          "execution_count": 8
        }
      ]
    },
    {
      "cell_type": "markdown",
      "metadata": {
        "id": "NOGklxm291w8"
      },
      "source": [
        "#Reshape Data Frame"
      ]
    },
    {
      "cell_type": "code",
      "metadata": {
        "colab": {
          "base_uri": "https://localhost:8080/",
          "height": 204
        },
        "id": "nbdWRVoe8QjO",
        "outputId": "12aa4968-4926-449f-9175-2a785867a830"
      },
      "source": [
        "#Reshape Dataframe\n",
        "d_melt = pd.melt(d, id_vars=['Genotype'], value_vars=['1_year', '2_year', '3_year'])\n",
        "d_melt.columns = ['Genotype', 'years', 'value']\n",
        "d_melt.head()"
      ],
      "execution_count": 9,
      "outputs": [
        {
          "output_type": "execute_result",
          "data": {
            "text/html": [
              "<div>\n",
              "<style scoped>\n",
              "    .dataframe tbody tr th:only-of-type {\n",
              "        vertical-align: middle;\n",
              "    }\n",
              "\n",
              "    .dataframe tbody tr th {\n",
              "        vertical-align: top;\n",
              "    }\n",
              "\n",
              "    .dataframe thead th {\n",
              "        text-align: right;\n",
              "    }\n",
              "</style>\n",
              "<table border=\"1\" class=\"dataframe\">\n",
              "  <thead>\n",
              "    <tr style=\"text-align: right;\">\n",
              "      <th></th>\n",
              "      <th>Genotype</th>\n",
              "      <th>years</th>\n",
              "      <th>value</th>\n",
              "    </tr>\n",
              "  </thead>\n",
              "  <tbody>\n",
              "    <tr>\n",
              "      <th>0</th>\n",
              "      <td>A</td>\n",
              "      <td>1_year</td>\n",
              "      <td>1.53</td>\n",
              "    </tr>\n",
              "    <tr>\n",
              "      <th>1</th>\n",
              "      <td>A</td>\n",
              "      <td>1_year</td>\n",
              "      <td>1.83</td>\n",
              "    </tr>\n",
              "    <tr>\n",
              "      <th>2</th>\n",
              "      <td>A</td>\n",
              "      <td>1_year</td>\n",
              "      <td>1.38</td>\n",
              "    </tr>\n",
              "    <tr>\n",
              "      <th>3</th>\n",
              "      <td>B</td>\n",
              "      <td>1_year</td>\n",
              "      <td>3.60</td>\n",
              "    </tr>\n",
              "    <tr>\n",
              "      <th>4</th>\n",
              "      <td>B</td>\n",
              "      <td>1_year</td>\n",
              "      <td>2.94</td>\n",
              "    </tr>\n",
              "  </tbody>\n",
              "</table>\n",
              "</div>"
            ],
            "text/plain": [
              "  Genotype   years  value\n",
              "0        A  1_year   1.53\n",
              "1        A  1_year   1.83\n",
              "2        A  1_year   1.38\n",
              "3        B  1_year   3.60\n",
              "4        B  1_year   2.94"
            ]
          },
          "metadata": {
            "tags": []
          },
          "execution_count": 9
        }
      ]
    },
    {
      "cell_type": "markdown",
      "metadata": {
        "id": "gd6PqqFV93V2"
      },
      "source": [
        "#Model Two-Way ANOVA"
      ]
    },
    {
      "cell_type": "code",
      "metadata": {
        "colab": {
          "base_uri": "https://localhost:8080/",
          "height": 227
        },
        "id": "UjbnSXJY0c-r",
        "outputId": "17d89b70-c125-4440-e8a6-152de6f20216"
      },
      "source": [
        "import statsmodels.api as sm\n",
        "from statsmodels.formula.api import ols\n",
        "#Membuat model Two-way ANOVA\n",
        "model = ols('value ~ C(Genotype) + C(years) + C(Genotype):C(years)', data=d_melt).fit()\n",
        "anova_table = sm.stats.anova_lm(model, typ=2)\n",
        "#Menampilkan Tavel ANOVA\n",
        "anova_table"
      ],
      "execution_count": 2,
      "outputs": [
        {
          "output_type": "stream",
          "text": [
            "/usr/local/lib/python3.7/dist-packages/statsmodels/tools/_testing.py:19: FutureWarning: pandas.util.testing is deprecated. Use the functions in the public API at pandas.testing instead.\n",
            "  import pandas.util.testing as tm\n"
          ],
          "name": "stderr"
        },
        {
          "output_type": "execute_result",
          "data": {
            "text/html": [
              "<div>\n",
              "<style scoped>\n",
              "    .dataframe tbody tr th:only-of-type {\n",
              "        vertical-align: middle;\n",
              "    }\n",
              "\n",
              "    .dataframe tbody tr th {\n",
              "        vertical-align: top;\n",
              "    }\n",
              "\n",
              "    .dataframe thead th {\n",
              "        text-align: right;\n",
              "    }\n",
              "</style>\n",
              "<table border=\"1\" class=\"dataframe\">\n",
              "  <thead>\n",
              "    <tr style=\"text-align: right;\">\n",
              "      <th></th>\n",
              "      <th>sum_sq</th>\n",
              "      <th>df</th>\n",
              "      <th>F</th>\n",
              "      <th>PR(&gt;F)</th>\n",
              "    </tr>\n",
              "  </thead>\n",
              "  <tbody>\n",
              "    <tr>\n",
              "      <th>C(Genotype)</th>\n",
              "      <td>58.551733</td>\n",
              "      <td>5.0</td>\n",
              "      <td>32.748581</td>\n",
              "      <td>1.931655e-12</td>\n",
              "    </tr>\n",
              "    <tr>\n",
              "      <th>C(years)</th>\n",
              "      <td>278.925633</td>\n",
              "      <td>2.0</td>\n",
              "      <td>390.014868</td>\n",
              "      <td>4.006243e-25</td>\n",
              "    </tr>\n",
              "    <tr>\n",
              "      <th>C(Genotype):C(years)</th>\n",
              "      <td>17.122967</td>\n",
              "      <td>10.0</td>\n",
              "      <td>4.788525</td>\n",
              "      <td>2.230094e-04</td>\n",
              "    </tr>\n",
              "    <tr>\n",
              "      <th>Residual</th>\n",
              "      <td>12.873000</td>\n",
              "      <td>36.0</td>\n",
              "      <td>NaN</td>\n",
              "      <td>NaN</td>\n",
              "    </tr>\n",
              "  </tbody>\n",
              "</table>\n",
              "</div>"
            ],
            "text/plain": [
              "                          sum_sq    df           F        PR(>F)\n",
              "C(Genotype)            58.551733   5.0   32.748581  1.931655e-12\n",
              "C(years)              278.925633   2.0  390.014868  4.006243e-25\n",
              "C(Genotype):C(years)   17.122967  10.0    4.788525  2.230094e-04\n",
              "Residual               12.873000  36.0         NaN           NaN"
            ]
          },
          "metadata": {
            "tags": []
          },
          "execution_count": 2
        }
      ]
    },
    {
      "cell_type": "markdown",
      "metadata": {
        "id": "cbrC5d-796q5"
      },
      "source": [
        "#Post-hoc Test"
      ]
    },
    {
      "cell_type": "code",
      "metadata": {
        "colab": {
          "base_uri": "https://localhost:8080/"
        },
        "id": "ugdQAt6T7q_n",
        "outputId": "c27857ba-d311-4978-bdc6-da0fe62c9a65"
      },
      "source": [
        "pip install bioinfokit"
      ],
      "execution_count": 3,
      "outputs": [
        {
          "output_type": "stream",
          "text": [
            "Requirement already satisfied: bioinfokit in /usr/local/lib/python3.7/dist-packages (2.0.3)\n",
            "Requirement already satisfied: matplotlib in /usr/local/lib/python3.7/dist-packages (from bioinfokit) (3.2.2)\n",
            "Requirement already satisfied: pandas in /usr/local/lib/python3.7/dist-packages (from bioinfokit) (1.1.5)\n",
            "Requirement already satisfied: numpy in /usr/local/lib/python3.7/dist-packages (from bioinfokit) (1.19.5)\n",
            "Requirement already satisfied: seaborn in /usr/local/lib/python3.7/dist-packages (from bioinfokit) (0.11.1)\n",
            "Requirement already satisfied: statsmodels in /usr/local/lib/python3.7/dist-packages (from bioinfokit) (0.10.2)\n",
            "Requirement already satisfied: adjustText in /usr/local/lib/python3.7/dist-packages (from bioinfokit) (0.7.3)\n",
            "Requirement already satisfied: matplotlib-venn in /usr/local/lib/python3.7/dist-packages (from bioinfokit) (0.11.6)\n",
            "Requirement already satisfied: textwrap3 in /usr/local/lib/python3.7/dist-packages (from bioinfokit) (0.9.2)\n",
            "Requirement already satisfied: scipy in /usr/local/lib/python3.7/dist-packages (from bioinfokit) (1.4.1)\n",
            "Requirement already satisfied: scikit-learn in /usr/local/lib/python3.7/dist-packages (from bioinfokit) (0.22.2.post1)\n",
            "Requirement already satisfied: tabulate in /usr/local/lib/python3.7/dist-packages (from bioinfokit) (0.8.9)\n",
            "Requirement already satisfied: kiwisolver>=1.0.1 in /usr/local/lib/python3.7/dist-packages (from matplotlib->bioinfokit) (1.3.1)\n",
            "Requirement already satisfied: cycler>=0.10 in /usr/local/lib/python3.7/dist-packages (from matplotlib->bioinfokit) (0.10.0)\n",
            "Requirement already satisfied: pyparsing!=2.0.4,!=2.1.2,!=2.1.6,>=2.0.1 in /usr/local/lib/python3.7/dist-packages (from matplotlib->bioinfokit) (2.4.7)\n",
            "Requirement already satisfied: python-dateutil>=2.1 in /usr/local/lib/python3.7/dist-packages (from matplotlib->bioinfokit) (2.8.1)\n",
            "Requirement already satisfied: pytz>=2017.2 in /usr/local/lib/python3.7/dist-packages (from pandas->bioinfokit) (2018.9)\n",
            "Requirement already satisfied: patsy>=0.4.0 in /usr/local/lib/python3.7/dist-packages (from statsmodels->bioinfokit) (0.5.1)\n",
            "Requirement already satisfied: joblib>=0.11 in /usr/local/lib/python3.7/dist-packages (from scikit-learn->bioinfokit) (1.0.1)\n",
            "Requirement already satisfied: six in /usr/local/lib/python3.7/dist-packages (from cycler>=0.10->matplotlib->bioinfokit) (1.15.0)\n"
          ],
          "name": "stdout"
        }
      ]
    },
    {
      "cell_type": "code",
      "metadata": {
        "colab": {
          "base_uri": "https://localhost:8080/",
          "height": 514
        },
        "id": "kqfinzkd7bx_",
        "outputId": "9a46e0dc-06ae-42ef-9175-c4e13429671d"
      },
      "source": [
        "from bioinfokit.analys import stat\n",
        "#Post-hoc Test\n",
        "res = stat()\n",
        "res.tukey_hsd(df=d_melt, res_var='value', xfac_var='Genotype', anova_model='value~C(Genotype)+C(years)+C(Genotype):C(years)')\n",
        "res.tukey_summary"
      ],
      "execution_count": 4,
      "outputs": [
        {
          "output_type": "execute_result",
          "data": {
            "text/html": [
              "<div>\n",
              "<style scoped>\n",
              "    .dataframe tbody tr th:only-of-type {\n",
              "        vertical-align: middle;\n",
              "    }\n",
              "\n",
              "    .dataframe tbody tr th {\n",
              "        vertical-align: top;\n",
              "    }\n",
              "\n",
              "    .dataframe thead th {\n",
              "        text-align: right;\n",
              "    }\n",
              "</style>\n",
              "<table border=\"1\" class=\"dataframe\">\n",
              "  <thead>\n",
              "    <tr style=\"text-align: right;\">\n",
              "      <th></th>\n",
              "      <th>group1</th>\n",
              "      <th>group2</th>\n",
              "      <th>Diff</th>\n",
              "      <th>Lower</th>\n",
              "      <th>Upper</th>\n",
              "      <th>q-value</th>\n",
              "      <th>p-value</th>\n",
              "    </tr>\n",
              "  </thead>\n",
              "  <tbody>\n",
              "    <tr>\n",
              "      <th>0</th>\n",
              "      <td>A</td>\n",
              "      <td>B</td>\n",
              "      <td>2.040000</td>\n",
              "      <td>1.191912</td>\n",
              "      <td>2.888088</td>\n",
              "      <td>10.234409</td>\n",
              "      <td>0.001000</td>\n",
              "    </tr>\n",
              "    <tr>\n",
              "      <th>1</th>\n",
              "      <td>A</td>\n",
              "      <td>C</td>\n",
              "      <td>2.733333</td>\n",
              "      <td>1.885245</td>\n",
              "      <td>3.581421</td>\n",
              "      <td>13.712771</td>\n",
              "      <td>0.001000</td>\n",
              "    </tr>\n",
              "    <tr>\n",
              "      <th>2</th>\n",
              "      <td>A</td>\n",
              "      <td>D</td>\n",
              "      <td>2.560000</td>\n",
              "      <td>1.711912</td>\n",
              "      <td>3.408088</td>\n",
              "      <td>12.843180</td>\n",
              "      <td>0.001000</td>\n",
              "    </tr>\n",
              "    <tr>\n",
              "      <th>3</th>\n",
              "      <td>A</td>\n",
              "      <td>E</td>\n",
              "      <td>0.720000</td>\n",
              "      <td>-0.128088</td>\n",
              "      <td>1.568088</td>\n",
              "      <td>3.612145</td>\n",
              "      <td>0.135306</td>\n",
              "    </tr>\n",
              "    <tr>\n",
              "      <th>4</th>\n",
              "      <td>A</td>\n",
              "      <td>F</td>\n",
              "      <td>2.573333</td>\n",
              "      <td>1.725245</td>\n",
              "      <td>3.421421</td>\n",
              "      <td>12.910072</td>\n",
              "      <td>0.001000</td>\n",
              "    </tr>\n",
              "    <tr>\n",
              "      <th>5</th>\n",
              "      <td>B</td>\n",
              "      <td>C</td>\n",
              "      <td>0.693333</td>\n",
              "      <td>-0.154755</td>\n",
              "      <td>1.541421</td>\n",
              "      <td>3.478361</td>\n",
              "      <td>0.163609</td>\n",
              "    </tr>\n",
              "    <tr>\n",
              "      <th>6</th>\n",
              "      <td>B</td>\n",
              "      <td>D</td>\n",
              "      <td>0.520000</td>\n",
              "      <td>-0.328088</td>\n",
              "      <td>1.368088</td>\n",
              "      <td>2.608771</td>\n",
              "      <td>0.453066</td>\n",
              "    </tr>\n",
              "    <tr>\n",
              "      <th>7</th>\n",
              "      <td>B</td>\n",
              "      <td>E</td>\n",
              "      <td>1.320000</td>\n",
              "      <td>0.471912</td>\n",
              "      <td>2.168088</td>\n",
              "      <td>6.622265</td>\n",
              "      <td>0.001000</td>\n",
              "    </tr>\n",
              "    <tr>\n",
              "      <th>8</th>\n",
              "      <td>B</td>\n",
              "      <td>F</td>\n",
              "      <td>0.533333</td>\n",
              "      <td>-0.314755</td>\n",
              "      <td>1.381421</td>\n",
              "      <td>2.675663</td>\n",
              "      <td>0.425189</td>\n",
              "    </tr>\n",
              "    <tr>\n",
              "      <th>9</th>\n",
              "      <td>C</td>\n",
              "      <td>D</td>\n",
              "      <td>0.173333</td>\n",
              "      <td>-0.674755</td>\n",
              "      <td>1.021421</td>\n",
              "      <td>0.869590</td>\n",
              "      <td>0.900000</td>\n",
              "    </tr>\n",
              "    <tr>\n",
              "      <th>10</th>\n",
              "      <td>C</td>\n",
              "      <td>E</td>\n",
              "      <td>2.013333</td>\n",
              "      <td>1.165245</td>\n",
              "      <td>2.861421</td>\n",
              "      <td>10.100626</td>\n",
              "      <td>0.001000</td>\n",
              "    </tr>\n",
              "    <tr>\n",
              "      <th>11</th>\n",
              "      <td>C</td>\n",
              "      <td>F</td>\n",
              "      <td>0.160000</td>\n",
              "      <td>-0.688088</td>\n",
              "      <td>1.008088</td>\n",
              "      <td>0.802699</td>\n",
              "      <td>0.900000</td>\n",
              "    </tr>\n",
              "    <tr>\n",
              "      <th>12</th>\n",
              "      <td>D</td>\n",
              "      <td>E</td>\n",
              "      <td>1.840000</td>\n",
              "      <td>0.991912</td>\n",
              "      <td>2.688088</td>\n",
              "      <td>9.231036</td>\n",
              "      <td>0.001000</td>\n",
              "    </tr>\n",
              "    <tr>\n",
              "      <th>13</th>\n",
              "      <td>D</td>\n",
              "      <td>F</td>\n",
              "      <td>0.013333</td>\n",
              "      <td>-0.834755</td>\n",
              "      <td>0.861421</td>\n",
              "      <td>0.066892</td>\n",
              "      <td>0.900000</td>\n",
              "    </tr>\n",
              "    <tr>\n",
              "      <th>14</th>\n",
              "      <td>E</td>\n",
              "      <td>F</td>\n",
              "      <td>1.853333</td>\n",
              "      <td>1.005245</td>\n",
              "      <td>2.701421</td>\n",
              "      <td>9.297928</td>\n",
              "      <td>0.001000</td>\n",
              "    </tr>\n",
              "  </tbody>\n",
              "</table>\n",
              "</div>"
            ],
            "text/plain": [
              "   group1 group2      Diff     Lower     Upper    q-value   p-value\n",
              "0       A      B  2.040000  1.191912  2.888088  10.234409  0.001000\n",
              "1       A      C  2.733333  1.885245  3.581421  13.712771  0.001000\n",
              "2       A      D  2.560000  1.711912  3.408088  12.843180  0.001000\n",
              "3       A      E  0.720000 -0.128088  1.568088   3.612145  0.135306\n",
              "4       A      F  2.573333  1.725245  3.421421  12.910072  0.001000\n",
              "5       B      C  0.693333 -0.154755  1.541421   3.478361  0.163609\n",
              "6       B      D  0.520000 -0.328088  1.368088   2.608771  0.453066\n",
              "7       B      E  1.320000  0.471912  2.168088   6.622265  0.001000\n",
              "8       B      F  0.533333 -0.314755  1.381421   2.675663  0.425189\n",
              "9       C      D  0.173333 -0.674755  1.021421   0.869590  0.900000\n",
              "10      C      E  2.013333  1.165245  2.861421  10.100626  0.001000\n",
              "11      C      F  0.160000 -0.688088  1.008088   0.802699  0.900000\n",
              "12      D      E  1.840000  0.991912  2.688088   9.231036  0.001000\n",
              "13      D      F  0.013333 -0.834755  0.861421   0.066892  0.900000\n",
              "14      E      F  1.853333  1.005245  2.701421   9.297928  0.001000"
            ]
          },
          "metadata": {
            "tags": []
          },
          "execution_count": 4
        }
      ]
    },
    {
      "cell_type": "code",
      "metadata": {
        "colab": {
          "base_uri": "https://localhost:8080/",
          "height": 204
        },
        "id": "5Lf2i5Ke7xuX",
        "outputId": "aba19d26-58db-4f31-d08a-fa6c82d27bf7"
      },
      "source": [
        "#Interaksi antara variabel Genotype dan years\n",
        "res.tukey_hsd(df=d_melt, res_var='value', xfac_var=['Genotype','years'], anova_model='value ~ C(Genotype) + C(years) + C(Genotype):C(years)')\n",
        "res.tukey_summary.head()"
      ],
      "execution_count": 6,
      "outputs": [
        {
          "output_type": "execute_result",
          "data": {
            "text/html": [
              "<div>\n",
              "<style scoped>\n",
              "    .dataframe tbody tr th:only-of-type {\n",
              "        vertical-align: middle;\n",
              "    }\n",
              "\n",
              "    .dataframe tbody tr th {\n",
              "        vertical-align: top;\n",
              "    }\n",
              "\n",
              "    .dataframe thead th {\n",
              "        text-align: right;\n",
              "    }\n",
              "</style>\n",
              "<table border=\"1\" class=\"dataframe\">\n",
              "  <thead>\n",
              "    <tr style=\"text-align: right;\">\n",
              "      <th></th>\n",
              "      <th>group1</th>\n",
              "      <th>group2</th>\n",
              "      <th>Diff</th>\n",
              "      <th>Lower</th>\n",
              "      <th>Upper</th>\n",
              "      <th>q-value</th>\n",
              "      <th>p-value</th>\n",
              "    </tr>\n",
              "  </thead>\n",
              "  <tbody>\n",
              "    <tr>\n",
              "      <th>0</th>\n",
              "      <td>(A, 1_year)</td>\n",
              "      <td>(A, 2_year)</td>\n",
              "      <td>2.38</td>\n",
              "      <td>0.548861</td>\n",
              "      <td>4.211139</td>\n",
              "      <td>6.893646</td>\n",
              "      <td>0.002439</td>\n",
              "    </tr>\n",
              "    <tr>\n",
              "      <th>1</th>\n",
              "      <td>(A, 1_year)</td>\n",
              "      <td>(A, 3_year)</td>\n",
              "      <td>4.75</td>\n",
              "      <td>2.918861</td>\n",
              "      <td>6.581139</td>\n",
              "      <td>13.758326</td>\n",
              "      <td>0.001000</td>\n",
              "    </tr>\n",
              "    <tr>\n",
              "      <th>2</th>\n",
              "      <td>(A, 1_year)</td>\n",
              "      <td>(B, 1_year)</td>\n",
              "      <td>1.94</td>\n",
              "      <td>0.108861</td>\n",
              "      <td>3.771139</td>\n",
              "      <td>5.619190</td>\n",
              "      <td>0.028673</td>\n",
              "    </tr>\n",
              "    <tr>\n",
              "      <th>3</th>\n",
              "      <td>(A, 1_year)</td>\n",
              "      <td>(B, 2_year)</td>\n",
              "      <td>4.41</td>\n",
              "      <td>2.578861</td>\n",
              "      <td>6.241139</td>\n",
              "      <td>12.773520</td>\n",
              "      <td>0.001000</td>\n",
              "    </tr>\n",
              "    <tr>\n",
              "      <th>4</th>\n",
              "      <td>(A, 1_year)</td>\n",
              "      <td>(B, 3_year)</td>\n",
              "      <td>6.90</td>\n",
              "      <td>5.068861</td>\n",
              "      <td>8.731139</td>\n",
              "      <td>19.985779</td>\n",
              "      <td>0.001000</td>\n",
              "    </tr>\n",
              "  </tbody>\n",
              "</table>\n",
              "</div>"
            ],
            "text/plain": [
              "        group1       group2  Diff     Lower     Upper    q-value   p-value\n",
              "0  (A, 1_year)  (A, 2_year)  2.38  0.548861  4.211139   6.893646  0.002439\n",
              "1  (A, 1_year)  (A, 3_year)  4.75  2.918861  6.581139  13.758326  0.001000\n",
              "2  (A, 1_year)  (B, 1_year)  1.94  0.108861  3.771139   5.619190  0.028673\n",
              "3  (A, 1_year)  (B, 2_year)  4.41  2.578861  6.241139  12.773520  0.001000\n",
              "4  (A, 1_year)  (B, 3_year)  6.90  5.068861  8.731139  19.985779  0.001000"
            ]
          },
          "metadata": {
            "tags": []
          },
          "execution_count": 6
        }
      ]
    }
  ]
}
